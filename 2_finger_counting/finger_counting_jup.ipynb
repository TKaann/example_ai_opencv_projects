{
 "cells": [
  {
   "cell_type": "code",
   "execution_count": 9,
   "id": "f961746a",
   "metadata": {},
   "outputs": [],
   "source": [
    "import cv2\n",
    "import mediapipe as mp"
   ]
  },
  {
   "cell_type": "code",
   "execution_count": 10,
   "id": "b74062e3",
   "metadata": {},
   "outputs": [
    {
     "data": {
      "text/plain": [
       "True"
      ]
     },
     "execution_count": 10,
     "metadata": {},
     "output_type": "execute_result"
    }
   ],
   "source": [
    "cap = cv2.VideoCapture(0)\n",
    "cap.set(3, 640)\n",
    "cap.set(4, 480)"
   ]
  },
  {
   "cell_type": "code",
   "execution_count": 11,
   "id": "d5a85af1",
   "metadata": {},
   "outputs": [],
   "source": [
    "mpHand = mp.solutions.hands\n",
    "hands = mpHand.Hands()\n",
    "mpDraw = mp.solutions.drawing_utils\n",
    "#parmak sayma fonksiyonumuzun calisma mantigi su sekilde olacak eger ki en ust noktadaki degerimiz en ustun 2 altindaki\n",
    "#bogumdan daha kucukse biz bu parmagi kapatmisiz olacaktir. o zaman bu parmagi saymayacagiz.\n",
    "\n",
    "tipIds = [4, 8, 12, 16, 20]   #tip dedigimiz seyler parmagimizin uc noktalari olucak.\n",
    "while True:\n",
    "    \n",
    "    \n",
    "    success, img = cap.read()\n",
    "    imgRGB = cv2.cvtColor(img, cv2.COLOR_BGR2RGB)\n",
    "    \n",
    "    results = hands.process(imgRGB)\n",
    "    #print(results.multi_hand_landmarks)\n",
    "    \n",
    "    lmList = []  #bu listeyi isaretlerin ne oldugunu tanimlayabilmek icin kullanicaz.\n",
    "    if results.multi_hand_landmarks:\n",
    "        for handLms in results.multi_hand_landmarks:\n",
    "            mpDraw.draw_landmarks(img, handLms, mpHand.HAND_CONNECTIONS)\n",
    "            \n",
    "            #yine eklemlerin bogumlarin falan id sine ihtiyacimiz var, bunlari alalim.\n",
    "            for id , lm in enumerate(handLms.landmark):\n",
    "                h, w, _ = img.shape\n",
    "                cx, cy = int(lm.x*w), int(lm.y*h)\n",
    "                lmList.append([id, cx, cy])\n",
    "                \n",
    "                \n",
    "                ##isaret uc noktasi = 8\n",
    "                #if id == 8:\n",
    "                    #cv2.circle(img, (cx,cy), 9, (255,0,0), cv2.FILLED)\n",
    "                ##isaret = 6\n",
    "                #if id == 6:\n",
    "                    #cv2.circle(img, (cx,cy), 9, (0,0,255), cv2.FILLED)\n",
    "                \n",
    "    if len(lmList) != 0:\n",
    "        fingers = []\n",
    "        #bas parmak\n",
    "        if lmList[tipIds[0]][1] > lmList[tipIds[0] - 1][1]:\n",
    "            fingers.append(1)\n",
    "        else:\n",
    "            fingers.append(0)\n",
    "        \n",
    "        # 4 parmak\n",
    "        for id in range(1, 5): #burada 1,5 yapmamizin sebebi bas parmagimizi indirsek de bazen saymiyor o yuzden farkli bir\n",
    "            #algoritma kullanicaz bas parmak icin.\n",
    "            #burada parmaklarimizin hangisi oldugunu aliyoruz ve icindeki kordinatlari aliyoruz.\n",
    "            if lmList[tipIds[id]][2] < lmList[tipIds[id] - 2][2]:   #burada da anlattigimiz 2 alttan kucukse yi aliyoruz.\n",
    "                fingers.append(1)\n",
    "            else:\n",
    "                fingers.append(0)\n",
    "        #print(fingers)\n",
    "        \n",
    "        totalF = fingers.count(1)\n",
    "        #print(totalF)\n",
    "        \n",
    "        #simdi acik olan parmaklari goruntunun uzerine yazdiricaz.\n",
    "        cv2.putText(img, str(totalF), (30,125), cv2.FONT_HERSHEY_COMPLEX, 10, (255,0,0), 8)\n",
    "    \n",
    "    \n",
    "    \n",
    "    \n",
    "    \n",
    "    \n",
    "    \n",
    "    \n",
    "    cv2.imshow(\"img\", img)\n",
    "    cv2.waitKey(1)\n",
    "    if cv2.waitKey(1) & 0xFF == ord('q'):\n",
    "        break\n",
    "\n",
    "cap.release()  # Kamerayı serbest bırak\n",
    "cv2.destroyAllWindows()  # Tüm penceleri kapat"
   ]
  },
  {
   "cell_type": "code",
   "execution_count": null,
   "id": "c957259f",
   "metadata": {},
   "outputs": [],
   "source": []
  }
 ],
 "metadata": {
  "kernelspec": {
   "display_name": "Python 3 (ipykernel)",
   "language": "python",
   "name": "python3"
  },
  "language_info": {
   "codemirror_mode": {
    "name": "ipython",
    "version": 3
   },
   "file_extension": ".py",
   "mimetype": "text/x-python",
   "name": "python",
   "nbconvert_exporter": "python",
   "pygments_lexer": "ipython3",
   "version": "3.11.5"
  }
 },
 "nbformat": 4,
 "nbformat_minor": 5
}
