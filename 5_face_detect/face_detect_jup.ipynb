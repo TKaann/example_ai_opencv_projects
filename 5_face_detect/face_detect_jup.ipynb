{
 "cells": [
  {
   "cell_type": "code",
   "execution_count": 1,
   "id": "287ffa64",
   "metadata": {},
   "outputs": [],
   "source": [
    "import cv2\n",
    "import mediapipe as mp\n",
    "\n",
    "\n",
    "#gerekli kutuphanelerin import islemi"
   ]
  },
  {
   "cell_type": "code",
   "execution_count": 2,
   "id": "fbfb1ef3",
   "metadata": {},
   "outputs": [
    {
     "ename": "error",
     "evalue": "OpenCV(4.8.1) D:\\a\\opencv-python\\opencv-python\\opencv\\modules\\imgproc\\src\\color.cpp:182: error: (-215:Assertion failed) !_src.empty() in function 'cv::cvtColor'\n",
     "output_type": "error",
     "traceback": [
      "\u001b[1;31m---------------------------------------------------------------------------\u001b[0m",
      "\u001b[1;31merror\u001b[0m                                     Traceback (most recent call last)",
      "Cell \u001b[1;32mIn[2], line 13\u001b[0m\n\u001b[0;32m     11\u001b[0m \u001b[38;5;28;01mwhile\u001b[39;00m \u001b[38;5;28;01mTrue\u001b[39;00m:\n\u001b[0;32m     12\u001b[0m     success, img \u001b[38;5;241m=\u001b[39m cap\u001b[38;5;241m.\u001b[39mread()     \u001b[38;5;66;03m#temel gorsellestirmeleri yapiyoruz.\u001b[39;00m\n\u001b[1;32m---> 13\u001b[0m     imgRGB \u001b[38;5;241m=\u001b[39m \u001b[43mcv2\u001b[49m\u001b[38;5;241;43m.\u001b[39;49m\u001b[43mcvtColor\u001b[49m\u001b[43m(\u001b[49m\u001b[43mimg\u001b[49m\u001b[43m,\u001b[49m\u001b[43m \u001b[49m\u001b[43mcv2\u001b[49m\u001b[38;5;241;43m.\u001b[39;49m\u001b[43mCOLOR_BGR2RGB\u001b[49m\u001b[43m)\u001b[49m   \u001b[38;5;66;03m#BGR dan RGB ye ceviriyoruz\u001b[39;00m\n\u001b[0;32m     15\u001b[0m     results \u001b[38;5;241m=\u001b[39m faceDetection\u001b[38;5;241m.\u001b[39mprocess(imgRGB)\n\u001b[0;32m     17\u001b[0m     \u001b[38;5;66;03m# print(results.detections)\u001b[39;00m\n",
      "\u001b[1;31merror\u001b[0m: OpenCV(4.8.1) D:\\a\\opencv-python\\opencv-python\\opencv\\modules\\imgproc\\src\\color.cpp:182: error: (-215:Assertion failed) !_src.empty() in function 'cv::cvtColor'\n"
     ]
    }
   ],
   "source": [
    "cap = cv2.VideoCapture(\"video3.mp4\")    #videoyu ice aktariyoruz\n",
    "\n",
    "mpFaceDetection = mp.solutions.face_detection    #Mediapipe kutuphanesinde olan face detection modulunu cagirdik\n",
    "faceDetection = mpFaceDetection.FaceDetection(0.20)    #facedetection modulunu cagirdik icine istedigimiz parametreyi giriyoruz.\n",
    "#eger buradaki parametreyi 0 a ne kadar yakinlastirirsak o kadar fazla detect etmeye calisacak ve alakasiz seyleri\n",
    "#sanki yuzmus gibi algilayip bissuru sacma kutucuk cikartacak.\n",
    "#eger 100 e yaklastirirsakda takibi cok yapacak ve detect islemi yapmayacak. bu degeri kendimiz iyi bir deger secmeliyiz. 0.20\n",
    "\n",
    "mpDraw = mp.solutions.drawing_utils\n",
    "\n",
    "while True:\n",
    "    success, img = cap.read()     #temel gorsellestirmeleri yapiyoruz.\n",
    "    imgRGB = cv2.cvtColor(img, cv2.COLOR_BGR2RGB)   #BGR dan RGB ye ceviriyoruz\n",
    "    \n",
    "    results = faceDetection.process(imgRGB)\n",
    "    \n",
    "    # print(results.detections)\n",
    "    if results.detections:\n",
    "        for id, detection in enumerate(results.detections):      #eger bir detecyion varsa kendisini ve id sini aliyoruz.\n",
    "            \n",
    "            bboxC = detection.location_data.relative_bounding_box    #bounding box ekliyoruz\n",
    "        #bruadaki kodda sadece tespit edilen nesnenin kordinat olarak tespiti yapiliyor, sol ust sag ust sag alt sol alt gibi\n",
    "        #sonrasinda sol ust koseyi w ve h ile carpilarak nesnenin pixel boyutunu buluyoruz\n",
    "            \n",
    "            \n",
    "            # print(bboxC)\n",
    "            h, w, _ = img.shape   #hight ve width ekliyoruz, color eklemiyoruz o yuzden _ de birakiyoruz.\n",
    "            \n",
    "            bbox = int(bboxC.xmin*w), int(bboxC.ymin*h), int(bboxC.width*w), int(bboxC.height*h)\n",
    "    #sonrasinda nesnenin pixel boyutunu buldukran sonra sol ust kosesini referans alarak buldugumuz piksel boyutu oturtuyoruz\n",
    "            #burasi bize x y ve width ve height donduruyor yani bbox donduuryor.\n",
    "            #print(bbox) yaparak gorebilirsin.\n",
    "            \n",
    "            \n",
    "            cv2.rectangle(img, bbox, (0,255,255),2)    #rectangele cizdirdigimiz zaman otomaik olarak img ve kutuyu aliyor\n",
    "                                                        #sadece rengini yaziyoruz biz de\n",
    "    \n",
    "    cv2.imshow(\"img\", img)\n",
    "    cv2.waitKey(1)\n",
    "    if cv2.waitKey(1) & 0xFF == ord('q'):\n",
    "        break\n",
    "        \n",
    "\n",
    "cap.release()  # Kamerayı serbest bırak\n",
    "cv2.destroyAllWindows()  # Tüm penceleri kapat"
   ]
  },
  {
   "cell_type": "code",
   "execution_count": null,
   "id": "ffc2d48a",
   "metadata": {},
   "outputs": [],
   "source": []
  }
 ],
 "metadata": {
  "kernelspec": {
   "display_name": "Python 3 (ipykernel)",
   "language": "python",
   "name": "python3"
  },
  "language_info": {
   "codemirror_mode": {
    "name": "ipython",
    "version": 3
   },
   "file_extension": ".py",
   "mimetype": "text/x-python",
   "name": "python",
   "nbconvert_exporter": "python",
   "pygments_lexer": "ipython3",
   "version": "3.9.18"
  }
 },
 "nbformat": 4,
 "nbformat_minor": 5
}
