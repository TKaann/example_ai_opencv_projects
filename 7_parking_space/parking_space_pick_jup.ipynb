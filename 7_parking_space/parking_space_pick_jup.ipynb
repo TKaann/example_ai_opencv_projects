{
 "cells": [
  {
   "cell_type": "code",
   "execution_count": null,
   "id": "ca5b0459",
   "metadata": {},
   "outputs": [],
   "source": [
    "import cv2\n",
    "import pickle\n",
    "#pickle kutuphanesi sayesinde isaretlemis oldugumuz resmi kaydediyoruz. \n",
    "#park pozisyonlarini kaydediyoruz ve resmin ustune otomatik olarak isleniyor.\n",
    "\n",
    "\n",
    "#gerkli kutuphaneler import islemi"
   ]
  },
  {
   "cell_type": "code",
   "execution_count": null,
   "id": "141120cc",
   "metadata": {},
   "outputs": [],
   "source": [
    "width = 27\n",
    "height = 15\n",
    "\n",
    "try:\n",
    "    #burda ise alttaki poListimiz tekrardan sifirlanmasin diye Carparkpos dosyasinin icine yazdiriyoruz.\n",
    "    with open(\"CarParkPos\", \"rb\") as f:\n",
    "        posList = pickle.load(f)\n",
    "except:\n",
    "    posList = []\n",
    "\n",
    "def mouseClick(events, x, y, flags, params):\n",
    "    #mouse ile tiklamamizi ve tikladigimiz yerleri (kordinatlari) poList listesine eklememizi yapiyoruz.\n",
    "    if events == cv2.EVENT_LBUTTONDOWN:\n",
    "        posList.append((x, y))\n",
    "        \n",
    "    #buraya da yanlis tikladigimiz yerleri sag click ile tiklayinca kaldirmayi yapiyoruz.\n",
    "    if events == cv2.EVENT_RBUTTONDOWN:\n",
    "        for i, pos in enumerate(posList):\n",
    "            x1, y1 = pos\n",
    "            if x1 < x < x1 + width and y1 < y < y1 + height:\n",
    "                posList.pop(i)\n",
    "                \n",
    "    #burda da her seferinde tek tek park yerlerine tiklamak yerine tikladigimiz yerleri kaydediyoruz.\n",
    "    with open(\"CarParkPos\",\"wb\") as f:\n",
    "        pickle.dump(posList, f)\n",
    "\n",
    "while True:\n",
    "    img = cv2.imread(\"first_frame.png\")\n",
    "    \n",
    "    #yukardaki poListten aldigimiz kordinatlarin oldugu yere kutucuk cizdiriyoruz.\n",
    "    for pos in posList:\n",
    "        cv2.rectangle(img, pos, (pos[0] + width, pos[1] + height), (255,0,0),2)\n",
    "    # print(\"poslist: \",posList)\n",
    "    \n",
    "    cv2.imshow(\"img\", img)\n",
    "    cv2.setMouseCallback(\"img\", mouseClick)\n",
    "    cv2.waitKey(1)"
   ]
  },
  {
   "cell_type": "code",
   "execution_count": null,
   "id": "4bc954a8",
   "metadata": {},
   "outputs": [],
   "source": []
  }
 ],
 "metadata": {
  "kernelspec": {
   "display_name": "Python 3 (ipykernel)",
   "language": "python",
   "name": "python3"
  },
  "language_info": {
   "codemirror_mode": {
    "name": "ipython",
    "version": 3
   },
   "file_extension": ".py",
   "mimetype": "text/x-python",
   "name": "python",
   "nbconvert_exporter": "python",
   "pygments_lexer": "ipython3",
   "version": "3.11.5"
  }
 },
 "nbformat": 4,
 "nbformat_minor": 5
}
